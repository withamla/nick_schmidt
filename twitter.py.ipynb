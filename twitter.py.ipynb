{
 "cells": [
  {
   "cell_type": "code",
   "execution_count": 4,
   "metadata": {},
   "outputs": [],
   "source": [
    "from twython import Twython\n",
    "\n",
    "from auth import (\n",
    "    consumer_key,\n",
    "    consumer_secret,\n",
    "    access_token,\n",
    "    access_token_secret\n",
    ")"
   ]
  },
  {
   "cell_type": "code",
   "execution_count": 5,
   "metadata": {},
   "outputs": [],
   "source": [
    "twitter = Twython(\n",
    "    consumer_key,\n",
    "    consumer_secret,\n",
    "    access_token,\n",
    "    access_token_secret\n",
    ")"
   ]
  },
  {
   "cell_type": "code",
   "execution_count": 3,
   "metadata": {},
   "outputs": [
    {
     "name": "stdout",
     "output_type": "stream",
     "text": [
      "Tweeted: Hello world!\n"
     ]
    }
   ],
   "source": [
    "message = \"Hello world!\"\n",
    "twitter.update_status(status=message)\n",
    "print(\"Tweeted: %s\" % message)"
   ]
  },
  {
   "cell_type": "code",
   "execution_count": 4,
   "metadata": {},
   "outputs": [],
   "source": [
    "import random"
   ]
  },
  {
   "cell_type": "code",
   "execution_count": 5,
   "metadata": {},
   "outputs": [],
   "source": [
    "messages = [\n",
    "    \"Hello world\",\n",
    "    \"Hi there\",\n",
    "    \"What's up?\",\n",
    "    \"How's it going?\",\n",
    "]"
   ]
  },
  {
   "cell_type": "code",
   "execution_count": 8,
   "metadata": {},
   "outputs": [
    {
     "name": "stdout",
     "output_type": "stream",
     "text": [
      "Tweeted: How's it going?\n"
     ]
    }
   ],
   "source": [
    "message = random.choice(messages)\n",
    "twitter.update_status(status=message)\n",
    "print(\"Tweeted: %s\" % message)"
   ]
  },
  {
   "cell_type": "code",
   "execution_count": 6,
   "metadata": {},
   "outputs": [
    {
     "data": {
      "text/plain": [
       "{'created_at': 'Thu Mar 12 16:25:46 +0000 2020',\n",
       " 'id': 1238139129004777472,\n",
       " 'id_str': '1238139129004777472',\n",
       " 'text': 'Our king https://t.co/I3DqJ9eH1z',\n",
       " 'truncated': False,\n",
       " 'entities': {'hashtags': [],\n",
       "  'symbols': [],\n",
       "  'user_mentions': [],\n",
       "  'urls': [],\n",
       "  'media': [{'id': 1238139125791969281,\n",
       "    'id_str': '1238139125791969281',\n",
       "    'indices': [9, 32],\n",
       "    'media_url': 'http://pbs.twimg.com/media/ES7A-ZdX0AEK7do.jpg',\n",
       "    'media_url_https': 'https://pbs.twimg.com/media/ES7A-ZdX0AEK7do.jpg',\n",
       "    'url': 'https://t.co/I3DqJ9eH1z',\n",
       "    'display_url': 'pic.twitter.com/I3DqJ9eH1z',\n",
       "    'expanded_url': 'https://twitter.com/knee_anne/status/1238139129004777472/photo/1',\n",
       "    'type': 'photo',\n",
       "    'sizes': {'large': {'w': 1317, 'h': 1600, 'resize': 'fit'},\n",
       "     'thumb': {'w': 150, 'h': 150, 'resize': 'crop'},\n",
       "     'medium': {'w': 988, 'h': 1200, 'resize': 'fit'},\n",
       "     'small': {'w': 560, 'h': 680, 'resize': 'fit'}}}]},\n",
       " 'extended_entities': {'media': [{'id': 1238139125791969281,\n",
       "    'id_str': '1238139125791969281',\n",
       "    'indices': [9, 32],\n",
       "    'media_url': 'http://pbs.twimg.com/media/ES7A-ZdX0AEK7do.jpg',\n",
       "    'media_url_https': 'https://pbs.twimg.com/media/ES7A-ZdX0AEK7do.jpg',\n",
       "    'url': 'https://t.co/I3DqJ9eH1z',\n",
       "    'display_url': 'pic.twitter.com/I3DqJ9eH1z',\n",
       "    'expanded_url': 'https://twitter.com/knee_anne/status/1238139129004777472/photo/1',\n",
       "    'type': 'photo',\n",
       "    'sizes': {'large': {'w': 1317, 'h': 1600, 'resize': 'fit'},\n",
       "     'thumb': {'w': 150, 'h': 150, 'resize': 'crop'},\n",
       "     'medium': {'w': 988, 'h': 1200, 'resize': 'fit'},\n",
       "     'small': {'w': 560, 'h': 680, 'resize': 'fit'}}}]},\n",
       " 'source': '<a href=\"https://raspberrypi.org\" rel=\"nofollow\">Anne Knee Tweets</a>',\n",
       " 'in_reply_to_status_id': None,\n",
       " 'in_reply_to_status_id_str': None,\n",
       " 'in_reply_to_user_id': None,\n",
       " 'in_reply_to_user_id_str': None,\n",
       " 'in_reply_to_screen_name': None,\n",
       " 'user': {'id': 1234515475280863235,\n",
       "  'id_str': '1234515475280863235',\n",
       "  'name': 'Anne Knee',\n",
       "  'screen_name': 'knee_anne',\n",
       "  'location': '',\n",
       "  'description': '',\n",
       "  'url': None,\n",
       "  'entities': {'description': {'urls': []}},\n",
       "  'protected': False,\n",
       "  'followers_count': 0,\n",
       "  'friends_count': 0,\n",
       "  'listed_count': 0,\n",
       "  'created_at': 'Mon Mar 02 16:26:47 +0000 2020',\n",
       "  'favourites_count': 0,\n",
       "  'utc_offset': None,\n",
       "  'time_zone': None,\n",
       "  'geo_enabled': False,\n",
       "  'verified': False,\n",
       "  'statuses_count': 3,\n",
       "  'lang': None,\n",
       "  'contributors_enabled': False,\n",
       "  'is_translator': False,\n",
       "  'is_translation_enabled': False,\n",
       "  'profile_background_color': 'F5F8FA',\n",
       "  'profile_background_image_url': None,\n",
       "  'profile_background_image_url_https': None,\n",
       "  'profile_background_tile': False,\n",
       "  'profile_image_url': 'http://abs.twimg.com/sticky/default_profile_images/default_profile_normal.png',\n",
       "  'profile_image_url_https': 'https://abs.twimg.com/sticky/default_profile_images/default_profile_normal.png',\n",
       "  'profile_link_color': '1DA1F2',\n",
       "  'profile_sidebar_border_color': 'C0DEED',\n",
       "  'profile_sidebar_fill_color': 'DDEEF6',\n",
       "  'profile_text_color': '333333',\n",
       "  'profile_use_background_image': True,\n",
       "  'has_extended_profile': True,\n",
       "  'default_profile': True,\n",
       "  'default_profile_image': True,\n",
       "  'following': False,\n",
       "  'follow_request_sent': False,\n",
       "  'notifications': False,\n",
       "  'translator_type': 'none'},\n",
       " 'geo': None,\n",
       " 'coordinates': None,\n",
       " 'place': None,\n",
       " 'contributors': None,\n",
       " 'is_quote_status': False,\n",
       " 'retweet_count': 0,\n",
       " 'favorite_count': 0,\n",
       " 'favorited': False,\n",
       " 'retweeted': False,\n",
       " 'possibly_sensitive': False,\n",
       " 'lang': 'en'}"
      ]
     },
     "execution_count": 6,
     "metadata": {},
     "output_type": "execute_result"
    }
   ],
   "source": [
    "message = \"Our king\"\n",
    "image = open('welldressedbaby.jpg', 'rb')\n",
    "\n",
    "response = twitter.upload_media(media=image)\n",
    "media_id = [response['media_id']]\n",
    "\n",
    "twitter.update_status(status=message, media_ids=media_id)"
   ]
  },
  {
   "cell_type": "code",
   "execution_count": null,
   "metadata": {},
   "outputs": [],
   "source": []
  }
 ],
 "metadata": {
  "kernelspec": {
   "display_name": "Python 3",
   "language": "python",
   "name": "python3"
  },
  "language_info": {
   "codemirror_mode": {
    "name": "ipython",
    "version": 3
   },
   "file_extension": ".py",
   "mimetype": "text/x-python",
   "name": "python",
   "nbconvert_exporter": "python",
   "pygments_lexer": "ipython3",
   "version": "3.7.3"
  }
 },
 "nbformat": 4,
 "nbformat_minor": 4
}
